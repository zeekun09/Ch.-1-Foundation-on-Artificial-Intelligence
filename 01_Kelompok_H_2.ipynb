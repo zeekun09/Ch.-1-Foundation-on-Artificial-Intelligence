{
  "nbformat": 4,
  "nbformat_minor": 0,
  "metadata": {
    "colab": {
      "provenance": []
    },
    "kernelspec": {
      "name": "python3",
      "display_name": "Python 3"
    },
    "language_info": {
      "name": "python"
    }
  },
  "cells": [
    {
      "cell_type": "markdown",
      "source": [
        "Paper Money: <br>\n",
        "1. Rp 100,000    \n",
        "2. Rp 50,000   \n",
        "3. Rp 20,000   \n",
        "4. Rp 10,000   \n",
        "5. Rp 5,000   \n",
        "6. Rp 2,000\n",
        "<br>\n",
        "<br>\n",
        "Coins: <br>\n",
        "1. Rp 1,000  \n",
        "2. Rp 500  \n",
        "3. Rp 200\n",
        "4. Rp 100  \n",
        "*To make it easier, we assume that all Rp. 1000 denominations are coins.\n",
        "\n",
        "There are circumstances where the bank must liquidate all customer savings in the form of money, if the customer requests it.\n",
        "And imagine this is happening right now in front of you, help the bank to calculate how many denominations of money are needed.\n",
        "\n",
        "Here is the rule:\n",
        "\n",
        "1. Bank must prioritize the largest denominations first to be issued.\n",
        "2. If there is a balance that cannot be cashed, the bank must inform it.\n",
        "3. Bank must calculate how many number of Paper Money needed and Coins needed.\n",
        "4. Banks can only disburse a maximum amount of 1 billion Rupiah\n",
        "\n",
        "\n",
        "\n",
        "Make a python code that receives an integer number of customer savings from 0 - 1 Billions.\n"
      ],
      "metadata": {
        "id": "v4yL2-lQ9B_E"
      }
    },
    {
      "cell_type": "code",
      "execution_count": null,
      "metadata": {
        "colab": {
          "base_uri": "https://localhost:8080/"
        },
        "id": "BadZYYvyin7Y",
        "outputId": "24eb02e0-da14-4890-b070-8114a6234eff"
      },
      "outputs": [
        {
          "output_type": "stream",
          "name": "stdout",
          "text": [
            "Enter an integer: 660765\n",
            "You entered: 660765\n"
          ]
        }
      ],
      "source": [
        "#Create command to get input from user, the input should be integer\n",
        "\n",
        "num = int(input(\"Enter an integer: \"))\n",
        "print(\"You entered:\", num)"
      ]
    },
    {
      "cell_type": "code",
      "source": [
        "#Create the code here\n",
        "def liquidate_savings(savings):\n",
        "    if savings < 0 or savings > 1_000_000_000:\n",
        "        return \"Invalid amount. Savings must be between 0 and 1 billion Rupiah.\"\n",
        "\n",
        "    denominations = {\n",
        "        \"Rp 100,000\": 100_000,\n",
        "        \"Rp 50,000\": 50_000,\n",
        "        \"Rp 20,000\": 20_000,\n",
        "        \"Rp 10,000\": 10_000,\n",
        "        \"Rp 5,000\": 5_000,\n",
        "        \"Rp 2,000\": 2_000,\n",
        "        \"Rp 1,000\": 1_000,\n",
        "        \"Rp 500\": 500,\n",
        "        \"Rp 200\": 200,\n",
        "        \"Rp 100\": 100\n",
        "    }\n",
        "\n",
        "    paper_money_count = 0\n",
        "    coin_count = 0\n",
        "    result = []\n",
        "\n",
        "    for denom, value in denominations.items():\n",
        "        count = savings // value\n",
        "        savings -= count * value\n",
        "\n",
        "        if value >= 2_000:  # Paper money\n",
        "            paper_money_count += count\n",
        "        else:  # Coins\n",
        "            coin_count += count\n",
        "\n",
        "        result.append(f\"amount of currency {denom}: {count}\")\n",
        "\n",
        "    result.append(f\"\\nTotal Paper Money: {paper_money_count}\")\n",
        "    result.append(f\"Total Coins: {coin_count}\")\n",
        "    result.append(f\"\\nCannot be cashed out: {savings}\")\n",
        "\n",
        "    return \"\\n\".join(result)\n",
        "\n",
        "\n",
        "# Example usage\n",
        "customer_savings = num  # Enter the customer savings amount here\n",
        "output = liquidate_savings(customer_savings)\n",
        "print(output)\n"
      ],
      "metadata": {
        "colab": {
          "base_uri": "https://localhost:8080/"
        },
        "id": "jC9mLViZi169",
        "outputId": "e00a09df-e511-4d2b-8f03-ce8ecc1b969f"
      },
      "execution_count": null,
      "outputs": [
        {
          "output_type": "stream",
          "name": "stdout",
          "text": [
            "amount of currency Rp 100,000: 6\n",
            "amount of currency Rp 50,000: 1\n",
            "amount of currency Rp 20,000: 0\n",
            "amount of currency Rp 10,000: 1\n",
            "amount of currency Rp 5,000: 0\n",
            "amount of currency Rp 2,000: 0\n",
            "amount of currency Rp 1,000: 0\n",
            "amount of currency Rp 500: 1\n",
            "amount of currency Rp 200: 1\n",
            "amount of currency Rp 100: 0\n",
            "\n",
            "Total Paper Money: 8\n",
            "Total Coins: 2\n",
            "\n",
            "Cannot be cashed out: 65\n"
          ]
        }
      ]
    },
    {
      "cell_type": "code",
      "source": [],
      "metadata": {
        "id": "Bpk8Fc2VonHP"
      },
      "execution_count": null,
      "outputs": []
    }
  ]
}